{
 "cells": [
  {
   "cell_type": "markdown",
   "id": "96ca8e24",
   "metadata": {},
   "source": [
    "## Problem Set 2 (PHYS641)  - Matias Castro Tapia"
   ]
  },
  {
   "cell_type": "code",
   "execution_count": 1,
   "id": "fc6fe1f5",
   "metadata": {},
   "outputs": [],
   "source": [
    "import numpy as np\n",
    "import matplotlib.pyplot as plt"
   ]
  },
  {
   "cell_type": "markdown",
   "id": "4364229d",
   "metadata": {},
   "source": [
    "## Problem 1"
   ]
  },
  {
   "cell_type": "markdown",
   "id": "f3a6ace7",
   "metadata": {},
   "source": [
    "I defined the qrpo routine to do the least squares solution for fit parameters (for polynomial fitting) using the $QR$ decomposition of $A$. Then, if $A=QR$ and we have $A^{T}N^{-1}Am=A^{T}N^{-1}d$:\n",
    "\n",
    "$$(QR)^{T}N^{-1}(QR)m=(QR)^{T}N^{-1}d$$\n",
    "$$(R{^T}Q^{T}N^{-1}QR)m=R^{T}Q^{T}N^{-1}d$$\n",
    "$$m=(R{^T}Q^{T}N^{-1}QR)^{-1}R^{T}Q^{T}N^{-1}d$$\n",
    "$$m=R^{-1}(Q^{T}N^{-1}Q)^{-1}R^{T,-1}R^{T}Q^{T}N^{-1}d$$\n",
    "$$m=R^{-1}(Q^{T}N^{-1}Q)^{-1}Q^{T}N^{-1}d$$\n",
    "\n",
    "For he specific case where $N=I$ we will have:\n",
    "$$m=R^{-1}(Q^{T}Q)^{-1}Q^{T}N^{-1}d=R^{-1}Q^{T}N^{-1}d$$\n",
    "since $Q^{T}Q=I$.\n",
    "My routine considers a general $N$ anyway."
   ]
  },
  {
   "cell_type": "markdown",
   "id": "4a28715b",
   "metadata": {},
   "source": [
    "The routine receive $x$ points and data $y=d$, the polynomial order $o$ and, a noise matrix defined as the input $s=N$. The routine print the model paramaters and return the data prediction, i.e, $Am$."
   ]
  },
  {
   "cell_type": "code",
   "execution_count": 2,
   "id": "4d3dd673",
   "metadata": {},
   "outputs": [],
   "source": [
    "def qrpo(x,y,o,s):\n",
    "    n=len(y)\n",
    "    mat=np.zeros([n,o+1]) \n",
    "    for i in range(o+1):\n",
    "        mat[:,i]=x**i\n",
    "    q,r=np.linalg.qr(mat)\n",
    "    \n",
    "    Ninv=np.linalg.inv(s)\n",
    "    mod=np.linalg.inv(r)@np.linalg.inv(q.T@Ninv@q)@q.T@Ninv@y\n",
    "    print(mod)\n",
    "    pred=mat@mod\n",
    "    return pred\n",
    "    \n",
    "    "
   ]
  },
  {
   "cell_type": "markdown",
   "id": "261d934d",
   "metadata": {},
   "source": [
    "I also defined the routine atpo for solving the least squares without the $QR$ decomposition. Then, the solution is just $m=(A^{T}N^{-1}A)^{-1}A^{T}N^{-1}d$"
   ]
  },
  {
   "cell_type": "code",
   "execution_count": 3,
   "id": "d3606137",
   "metadata": {},
   "outputs": [],
   "source": [
    "def atpo(x,y,o,s):\n",
    "    n=len(y)\n",
    "    mat=np.zeros([n,o+1])\n",
    "    for i in range(o+1):\n",
    "        mat[:,i]=x**i\n",
    " \n",
    "    Ninv=np.linalg.inv(s)\n",
    "    mod=np.linalg.inv(mat.T@Ninv@mat)@mat.T@Ninv@y\n",
    "    print(mod)\n",
    "    pred=mat@mod\n",
    "    return pred"
   ]
  },
  {
   "cell_type": "markdown",
   "id": "7118cd39",
   "metadata": {},
   "source": [
    "Let's do a fit for $f(x)=\\sin{x}\\cos{x}$."
   ]
  },
  {
   "cell_type": "code",
   "execution_count": 4,
   "id": "4f962976",
   "metadata": {},
   "outputs": [],
   "source": [
    "x=np.linspace(-3,3,301)"
   ]
  },
  {
   "cell_type": "code",
   "execution_count": 5,
   "id": "51435b00",
   "metadata": {},
   "outputs": [],
   "source": [
    "y1=np.sin(x)*np.cos(x)"
   ]
  },
  {
   "cell_type": "markdown",
   "id": "b4291f13",
   "metadata": {},
   "source": [
    "I defined a noise matrix as an identity matrix."
   ]
  },
  {
   "cell_type": "code",
   "execution_count": 6,
   "id": "198623bb",
   "metadata": {},
   "outputs": [],
   "source": [
    "n=len(x)\n",
    "N=np.zeros([n,n])\n",
    "for i in range(n):\n",
    "    N[i][i]=1"
   ]
  },
  {
   "cell_type": "markdown",
   "id": "c825d8f8",
   "metadata": {},
   "source": [
    "A $22^{th}$ order polynomial fit using both methods."
   ]
  },
  {
   "cell_type": "code",
   "execution_count": 7,
   "id": "3f29b4f5",
   "metadata": {},
   "outputs": [
    {
     "name": "stdout",
     "output_type": "stream",
     "text": [
      "[ 4.01940850e-16  1.00000000e+00 -6.18342183e-15 -6.66666667e-01\n",
      "  2.31498848e-14  1.33333333e-01 -4.33091063e-14 -1.26984121e-02\n",
      "  3.95100619e-14  7.05466894e-04 -2.18280255e-14 -2.56531355e-05\n",
      "  7.54691448e-15  6.57711246e-07 -1.64717415e-15 -1.25158437e-08\n",
      "  2.31504269e-16  1.82533983e-10 -2.02201588e-17 -2.01367224e-12\n",
      "  1.00572258e-18  1.36829224e-14 -2.14070207e-20]\n"
     ]
    }
   ],
   "source": [
    "y1predq=qrpo(x,y1,22,N)"
   ]
  },
  {
   "cell_type": "code",
   "execution_count": 8,
   "id": "3c13342d",
   "metadata": {},
   "outputs": [
    {
     "name": "stdout",
     "output_type": "stream",
     "text": [
      "[-2.77041326e-04  1.00204414e+00  1.70631879e-04 -6.67263895e-01\n",
      " -4.26173355e-05  1.33472485e-01  9.13443838e-06 -1.27162315e-02\n",
      " -4.92405347e-06  7.01804660e-04  2.41763747e-06 -2.36882014e-05\n",
      " -7.51280407e-07  2.22403810e-07  1.50679239e-07  4.85946147e-08\n",
      " -1.95582349e-08 -5.20424665e-09  1.58368688e-09  2.65643865e-10\n",
      " -7.26439171e-11 -5.69363998e-12  1.44354489e-12]\n"
     ]
    }
   ],
   "source": [
    "y1preda=atpo(x,y1,22,N)"
   ]
  },
  {
   "cell_type": "code",
   "execution_count": 9,
   "id": "dda887af",
   "metadata": {},
   "outputs": [
    {
     "data": {
      "image/png": "[encoded data removed]",
      "text/plain": [
       "<Figure size 432x288 with 1 Axes>"
      ]
     },
     "metadata": {
      "needs_background": "light"
     },
     "output_type": "display_data"
    }
   ],
   "source": [
    "plt.plot(x,y1,label='$f(x)=\\sin{(x)} \\cos{(x)}$')\n",
    "plt.plot(x,y1predq,'--',label='QR polynomial fit')\n",
    "plt.plot(x,y1preda,'-.',label='A polynomial fit')\n",
    "plt.xlabel('x')\n",
    "plt.ylabel('y')\n",
    "plt.legend()\n",
    "plt.show()"
   ]
  },
  {
   "cell_type": "markdown",
   "id": "896e195f",
   "metadata": {},
   "source": [
    "It seems like both fits are very close to the function, so let's the absolute error:"
   ]
  },
  {
   "cell_type": "code",
   "execution_count": 10,
   "id": "9844f5b9",
   "metadata": {},
   "outputs": [
    {
     "data": {
      "image/png": "[encoded data removed]",
      "text/plain": [
       "<Figure size 432x288 with 1 Axes>"
      ]
     },
     "metadata": {
      "needs_background": "light"
     },
     "output_type": "display_data"
    }
   ],
   "source": [
    "plt.loglog(x,np.abs(y1predq-y1),'--',label='QR polynomial fit',color='orange')\n",
    "plt.loglog(x,np.abs(y1preda-y1),'-.',label='A polynomial fit',color='green')\n",
    "plt.xlabel('x')\n",
    "plt.ylabel('Absolute error')\n",
    "plt.legend()\n",
    "plt.show()"
   ]
  },
  {
   "cell_type": "markdown",
   "id": "98482c47",
   "metadata": {},
   "source": [
    "Then, the absolute error is much smaller when using the $QR$ decomposition."
   ]
  },
  {
   "cell_type": "markdown",
   "id": "22570b46",
   "metadata": {},
   "source": [
    "## Problem 2"
   ]
  },
  {
   "cell_type": "markdown",
   "id": "1eb14da5",
   "metadata": {},
   "source": [
    "I defined the routine Tn_fit to do a Chebyshev polynomial fit for a set of points $x$, data $y$, and order $od$. I used the Chebyshev polynomial definition $T_{n}=\\cos{(n\\arccos{(x)})}$ for generating the $n^{th}$ order polynomial. Then, the $i^{th}$ row of the matrix $A$ for the model must be $(T_{0}(x_{i})$ $T_{1}(x_{i})...T_{od}(x_{i}))$ with $x_{i}$ the $i^{th}$ point. To the least squares fit for the coefficients I just used the classic linear solution $m=(A^{T}N^{-1}A)^{-1}A^{T}N^{-1}d=(A^{T}A)^{-1}A^{T}d$ (ignoring the noise matrix) . The routine returns the prediction $Am$ and the set of coefficients $m$. "
   ]
  },
  {
   "cell_type": "code",
   "execution_count": 11,
   "id": "a4fb6f82",
   "metadata": {},
   "outputs": [],
   "source": [
    "def Tn_fit(x,y,od):\n",
    "    n=len(x)\n",
    "    mat=np.zeros([n,od+1])\n",
    "    for i in range(od+1):\n",
    "        mat[:,i]=np.cos(i*np.arccos(x))\n",
    "   \n",
    "    mod=np.linalg.inv(mat.T@mat)@mat.T@y\n",
    "   \n",
    "    pred=mat@mod\n",
    "    return pred,mod"
   ]
  },
  {
   "cell_type": "markdown",
   "id": "9b6f4552",
   "metadata": {},
   "source": [
    "I also defined the routine Tn_eval to eval an array of $x$ points to a model coefficients as:\n",
    "$$y=m_{0}T_{0}(x)+m_{1}T_{1}(x)+...+m_{od}T_{od}(x)$$\n",
    "\n",
    "where od=lenght of m."
   ]
  },
  {
   "cell_type": "code",
   "execution_count": 12,
   "id": "6c2da375",
   "metadata": {},
   "outputs": [],
   "source": [
    "def Tn_eval(x,m):\n",
    "    ev=[]\n",
    "    for i in range(len(m)):\n",
    "        ev.append(m[i]*np.cos(i*np.arccos(x)))\n",
    "    return np.array(sum(ev))\n",
    "        "
   ]
  },
  {
   "cell_type": "markdown",
   "id": "6d2a601b",
   "metadata": {},
   "source": [
    "Let's take the xx array for the fit to $e^{x}$"
   ]
  },
  {
   "cell_type": "code",
   "execution_count": 13,
   "id": "ff1307a2",
   "metadata": {},
   "outputs": [],
   "source": [
    "xx=np.linspace(-1,1,1000)"
   ]
  },
  {
   "cell_type": "markdown",
   "id": "7634d3a8",
   "metadata": {},
   "source": [
    "Just checking that $T_{n}=\\cos{(n\\arccos{(x)})}$ works and that they are polynomials."
   ]
  },
  {
   "cell_type": "code",
   "execution_count": 14,
   "id": "c225455f",
   "metadata": {},
   "outputs": [
    {
     "data": {
      "image/png": "[encoded data removed]",
      "text/plain": [
       "<Figure size 432x288 with 1 Axes>"
      ]
     },
     "metadata": {
      "needs_background": "light"
     },
     "output_type": "display_data"
    }
   ],
   "source": [
    "for i in range(7):\n",
    "    plt.plot(xx,np.cos(i*np.arccos(xx)))\n",
    "plt.xlabel('x')\n",
    "plt.ylabel('$T_{n}(x)$')\n",
    "#plt.legend()\n",
    "plt.show()"
   ]
  },
  {
   "cell_type": "code",
   "execution_count": 15,
   "id": "bc8d9389",
   "metadata": {},
   "outputs": [],
   "source": [
    "yy=np.exp(xx)"
   ]
  },
  {
   "cell_type": "markdown",
   "id": "ae962167",
   "metadata": {},
   "source": [
    "Let's check the stability of the fit."
   ]
  },
  {
   "cell_type": "code",
   "execution_count": 16,
   "id": "0f7a66ae",
   "metadata": {},
   "outputs": [
    {
     "data": {
      "image/png": "[encoded data removed]",
      "text/plain": [
       "<Figure size 432x288 with 1 Axes>"
      ]
     },
     "metadata": {
      "needs_background": "light"
     },
     "output_type": "display_data"
    }
   ],
   "source": [
    "for i in range(5,55,5):\n",
    "    predt,c=Tn_fit(xx,yy,i)\n",
    "    plt.plot(xx,predt,label='Pred '+str(i)+'$^{th}$ order')\n",
    "plt.xlabel('x')\n",
    "plt.ylabel('y')\n",
    "plt.legend()\n",
    "plt.show()"
   ]
  },
  {
   "cell_type": "markdown",
   "id": "449e9de4",
   "metadata": {},
   "source": [
    "It seems like it remains very stable even for a $50^{th}$ order fitting. So, we should look the absolute errors too."
   ]
  },
  {
   "cell_type": "code",
   "execution_count": 17,
   "id": "ba55b61a",
   "metadata": {},
   "outputs": [
    {
     "data": {
      "image/png": "[encoded data removed]",
      "text/plain": [
       "<Figure size 432x288 with 1 Axes>"
      ]
     },
     "metadata": {
      "needs_background": "light"
     },
     "output_type": "display_data"
    }
   ],
   "source": [
    "for i in range(5,55,5):\n",
    "    predt,c=Tn_fit(xx,yy,i)\n",
    "    plt.loglog(xx,np.abs(yy-predt),label='Error '+str(i)+'$^{th}$ order')\n",
    "plt.xlabel('x')\n",
    "plt.ylabel('Absolute error')\n",
    "plt.legend()\n",
    "plt.show()"
   ]
  },
  {
   "cell_type": "markdown",
   "id": "e6cba75c",
   "metadata": {},
   "source": [
    "The error remains near $10^{-15}$ from about the $15^{th}$ order. Let's do a $6^{th}$ and a $30^{th}$ order fit for part b)."
   ]
  },
  {
   "cell_type": "code",
   "execution_count": 18,
   "id": "59967d4a",
   "metadata": {},
   "outputs": [
    {
     "name": "stdout",
     "output_type": "stream",
     "text": [
      "[1.26606584e+00 1.13031696e+00 2.71495266e-01 4.43354952e-02\n",
      " 5.47415863e-03 5.41243732e-04 4.48739566e-05]\n"
     ]
    }
   ],
   "source": [
    "tn6,c6=Tn_fit(xx,yy,6)\n",
    "print(c6)"
   ]
  },
  {
   "cell_type": "code",
   "execution_count": 19,
   "id": "1a708b9d",
   "metadata": {},
   "outputs": [],
   "source": [
    "maxe6=np.max(np.abs(tn6-yy))\n",
    "rms6=np.sqrt(sum(np.abs(tn6-yy)**2)/len(yy))"
   ]
  },
  {
   "cell_type": "code",
   "execution_count": 20,
   "id": "034397b9",
   "metadata": {},
   "outputs": [
    {
     "name": "stdout",
     "output_type": "stream",
     "text": [
      "Max error for 6th order: 7.98480781183386e-06\n",
      "RMS error for 6th order: 1.9852969888235997e-06\n"
     ]
    }
   ],
   "source": [
    "print('Max error for 6th order: '+str(maxe6))\n",
    "print('RMS error for 6th order: '+str(rms6)) "
   ]
  },
  {
   "cell_type": "code",
   "execution_count": 21,
   "id": "8e813da1",
   "metadata": {},
   "outputs": [
    {
     "name": "stdout",
     "output_type": "stream",
     "text": [
      "[ 1.26606588e+00  1.13031821e+00  2.71495340e-01  4.43368498e-02\n",
      "  5.47424044e-03  5.42926312e-04  4.49773230e-05  3.19843646e-06\n",
      "  1.99212481e-07  1.10367713e-08  5.50589491e-10  2.49789842e-11\n",
      "  1.03899528e-12  3.93574062e-14  1.32532874e-15 -1.73472348e-16\n",
      " -3.46944695e-18 -1.52655666e-16 -4.16333634e-17 -2.49800181e-16\n",
      "  1.17961196e-16 -7.63278329e-17 -3.46944695e-18  1.04083409e-16\n",
      "  4.51028104e-17 -3.81639165e-17  6.59194921e-17 -9.02056208e-17\n",
      "  1.24900090e-16 -1.42247325e-16  3.29597460e-17]\n"
     ]
    }
   ],
   "source": [
    "tn30,c30=Tn_fit(xx,yy,30)\n",
    "print(c30)"
   ]
  },
  {
   "cell_type": "markdown",
   "id": "50941e2a",
   "metadata": {},
   "source": [
    "Now, I have to truncate the $30^{th}$ order fit to $6^{th}$, and evaluate the truncated fit using Tn_eval"
   ]
  },
  {
   "cell_type": "code",
   "execution_count": 22,
   "id": "96d84bfc",
   "metadata": {},
   "outputs": [
    {
     "name": "stdout",
     "output_type": "stream",
     "text": [
      "[1.26606588e+00 1.13031821e+00 2.71495340e-01 4.43368498e-02\n",
      " 5.47424044e-03 5.42926312e-04 4.49773230e-05 0.00000000e+00\n",
      " 0.00000000e+00 0.00000000e+00 0.00000000e+00 0.00000000e+00\n",
      " 0.00000000e+00 0.00000000e+00 0.00000000e+00 0.00000000e+00\n",
      " 0.00000000e+00 0.00000000e+00 0.00000000e+00 0.00000000e+00\n",
      " 0.00000000e+00 0.00000000e+00 0.00000000e+00 0.00000000e+00\n",
      " 0.00000000e+00 0.00000000e+00 0.00000000e+00 0.00000000e+00\n",
      " 0.00000000e+00 0.00000000e+00 0.00000000e+00]\n"
     ]
    }
   ],
   "source": [
    "c30[7:]=0\n",
    "print(c30)"
   ]
  },
  {
   "cell_type": "code",
   "execution_count": 23,
   "id": "16d4f866",
   "metadata": {},
   "outputs": [],
   "source": [
    "tn30tr=Tn_eval(xx,c30)"
   ]
  },
  {
   "cell_type": "code",
   "execution_count": 24,
   "id": "a01cea00",
   "metadata": {},
   "outputs": [],
   "source": [
    "maxe30t=np.max(np.abs(tn30tr-yy))\n",
    "rms30t=np.sqrt(sum(np.abs(tn30tr-yy)**2)/len(yy))"
   ]
  },
  {
   "cell_type": "code",
   "execution_count": 25,
   "id": "368cb44f",
   "metadata": {},
   "outputs": [
    {
     "name": "stdout",
     "output_type": "stream",
     "text": [
      "Max error for 30th order truncated fit: 3.4092623653059206e-06\n",
      "RMS error for 30th order truncated fit: 2.2588113160560264e-06\n"
     ]
    }
   ],
   "source": [
    "print('Max error for 30th order truncated fit: '+str(maxe30t))\n",
    "print('RMS error for 30th order truncated fit: '+str(rms30t)) "
   ]
  },
  {
   "cell_type": "code",
   "execution_count": 26,
   "id": "6b00038d",
   "metadata": {},
   "outputs": [
    {
     "data": {
      "text/plain": [
       "(2.342092498685523, 0.8789122733323323)"
      ]
     },
     "execution_count": 26,
     "metadata": {},
     "output_type": "execute_result"
    }
   ],
   "source": [
    "maxe6/maxe30t,rms6/rms30t"
   ]
  },
  {
   "cell_type": "markdown",
   "id": "0079dc49",
   "metadata": {},
   "source": [
    "If we look the old coefficients of the $30^{th}$ order fit (c30 before truncanting), we can note that the $8^{th}$ coefficient is very similar to the Max error on the truncated $30^{th}$ order fit, both are about $3\\times10^{-6}$. \n",
    "\n",
    "On the other hand, when comparing the max error for the $6^{th}$ order fit and the truncated $30^{th}$ order, we can see that it was reduced by a factor of $\\sim 2.3$ when we truncated, while the RMS error is larger for about $14\\%$."
   ]
  },
  {
   "cell_type": "markdown",
   "id": "40a4c8f9",
   "metadata": {},
   "source": [
    "## Problem 3"
   ]
  },
  {
   "cell_type": "markdown",
   "id": "c537970a",
   "metadata": {},
   "source": [
    "We can start with the Cholesky decomposition of a noise matrix, then $N=LL^{T}$. If we consider the eigendecomposition of the matrix $N=V\\Lambda V^{T}$ and remember that if we know $N=LL^{T}$ and the errors are correlated we can go from correlated data to uncorrelated as follows:\n",
    "$$d_{uncorr}=L^{-1}d_{corr}$$\n",
    "Thus, we can consider that $L=V\\Lambda^{1/2}$ for positive eigenvalues (because $N$ is a positive defined matrix) based on the two type of decomposition dicussed and we can obtain correlated data from uncorrelated data using the eigenvalues/vectors:\n",
    "$$d_{corr}=Ld_{uncorr}=V\\Lambda^{1/2}d_{uncorr}$$\n"
   ]
  },
  {
   "cell_type": "markdown",
   "id": "47ba4339",
   "metadata": {},
   "source": [
    "I defined the routine correlated_data to generate random correlated data from an input of a noise matrix of correlated errors. The routine generates a set of random values (consistent with the length of the noise matrix) and find the eigenvalues/vectors of the noise matrix using numpy.linalg.eig. Then, it generates correlated data using $d_{corr}=V\\Lambda^{1/2}d_{uncorr}$ and returns it along with $<d_{corr}d_{corr}^{T}>$. \n",
    "\n",
    "$V=[\\vec{v_{1}}$ $\\vec{v_{2}}...\\vec{v_{n}}]$ for $\\vec{v_{i}}$ every eigenvector as a column and the element $\\Lambda_{ii}=\\lambda_{i}$ and $0$ for non-diagonal elements for every eigenvalue $\\lambda_{i}$. "
   ]
  },
  {
   "cell_type": "code",
   "execution_count": 27,
   "id": "1ae8958c",
   "metadata": {},
   "outputs": [],
   "source": [
    "def correlated_data(Ncorr):\n",
    "    n=len(Ncorr)\n",
    "    d=np.random.randn(len(Ncorr))\n",
    "    \n",
    "    l,vec=np.linalg.eig(Ncorr)\n",
    "\n",
    "    lam_1=np.zeros([n,n])\n",
    "    for i in range(n):\n",
    "        lam_1[i][i]=l[i]\n",
    "\n",
    "    dcorr=vec@np.sqrt(lam_1)@d\n",
    "    \n",
    "    return dcorr,np.transpose([dcorr])@[dcorr]"
   ]
  },
  {
   "cell_type": "markdown",
   "id": "0fd44acd",
   "metadata": {},
   "source": [
    "I created a matrix $N_{ij}=1+\\delta_{ij}$ of dimensions $5\\times5$"
   ]
  },
  {
   "cell_type": "code",
   "execution_count": 28,
   "id": "68e44d02",
   "metadata": {},
   "outputs": [],
   "source": [
    "Ncorr=np.ones([5,5])\n",
    "for i in range(len(Ncorr)):\n",
    "    Ncorr[i][i]=2"
   ]
  },
  {
   "cell_type": "code",
   "execution_count": 29,
   "id": "361e0808",
   "metadata": {},
   "outputs": [
    {
     "data": {
      "text/plain": [
       "array([[2., 1., 1., 1., 1.],\n",
       "       [1., 2., 1., 1., 1.],\n",
       "       [1., 1., 2., 1., 1.],\n",
       "       [1., 1., 1., 2., 1.],\n",
       "       [1., 1., 1., 1., 2.]])"
      ]
     },
     "execution_count": 29,
     "metadata": {},
     "output_type": "execute_result"
    }
   ],
   "source": [
    "Ncorr"
   ]
  },
  {
   "cell_type": "markdown",
   "id": "d69b5b4b",
   "metadata": {},
   "source": [
    "I used the routine 100 times to obtain the average of the matrix $<d_{corr}d_{corr}^{T}>$ for these 100 iterations."
   ]
  },
  {
   "cell_type": "code",
   "execution_count": 30,
   "id": "fdc58aa2",
   "metadata": {},
   "outputs": [],
   "source": [
    "dc100=[]\n",
    "ddt100=[]\n",
    "for i in range(100):\n",
    "    dc,ddt=correlated_data(Ncorr)\n",
    "    dc100.append(dc)\n",
    "    ddt100.append(ddt)"
   ]
  },
  {
   "cell_type": "code",
   "execution_count": 31,
   "id": "60d23933",
   "metadata": {},
   "outputs": [
    {
     "data": {
      "text/plain": [
       "array([[2.72615432, 1.09263198, 1.60634134, 1.3019616 , 1.69560458],\n",
       "       [1.09263198, 2.57453737, 1.11429005, 1.28721382, 0.95478667],\n",
       "       [1.60634134, 1.11429005, 2.26958561, 1.4525458 , 1.45165529],\n",
       "       [1.3019616 , 1.28721382, 1.4525458 , 1.76675411, 1.40441788],\n",
       "       [1.69560458, 0.95478667, 1.45165529, 1.40441788, 2.12578387]])"
      ]
     },
     "execution_count": 31,
     "metadata": {},
     "output_type": "execute_result"
    }
   ],
   "source": [
    "sum(ddt100)/100"
   ]
  },
  {
   "cell_type": "markdown",
   "id": "4a32f1f4",
   "metadata": {},
   "source": [
    "Now for 10000 iterations:"
   ]
  },
  {
   "cell_type": "code",
   "execution_count": 32,
   "id": "672a5a0b",
   "metadata": {},
   "outputs": [],
   "source": [
    "dc10000=[]\n",
    "ddt10000=[]\n",
    "for i in range(10000):\n",
    "    dc,ddt=correlated_data(Ncorr)\n",
    "    dc10000.append(dc)\n",
    "    ddt10000.append(ddt)"
   ]
  },
  {
   "cell_type": "code",
   "execution_count": 33,
   "id": "149b246f",
   "metadata": {},
   "outputs": [
    {
     "data": {
      "text/plain": [
       "array([[2.06883928, 0.75486194, 1.08752121, 0.93277717, 1.18082445],\n",
       "       [0.75486194, 2.37963373, 0.93391176, 1.33569191, 0.68050593],\n",
       "       [1.08752121, 0.93391176, 1.91416198, 1.11806224, 1.01789104],\n",
       "       [0.93277717, 1.33569191, 1.11806224, 1.5830557 , 1.0546415 ],\n",
       "       [1.18082445, 0.68050593, 1.01789104, 1.0546415 , 2.11083216]])"
      ]
     },
     "execution_count": 33,
     "metadata": {},
     "output_type": "execute_result"
    }
   ],
   "source": [
    "sum(ddt10000)/10000"
   ]
  },
  {
   "cell_type": "markdown",
   "id": "01a1c654",
   "metadata": {},
   "source": [
    "And 100000:"
   ]
  },
  {
   "cell_type": "code",
   "execution_count": 34,
   "id": "eb461aff",
   "metadata": {},
   "outputs": [],
   "source": [
    "dc100000=[]\n",
    "ddt100000=[]\n",
    "for i in range(100000):\n",
    "    dc,ddt=correlated_data(Ncorr)\n",
    "    dc100000.append(dc)\n",
    "    ddt100000.append(ddt)"
   ]
  },
  {
   "cell_type": "code",
   "execution_count": 35,
   "id": "aa81ea60",
   "metadata": {},
   "outputs": [
    {
     "data": {
      "text/plain": [
       "array([[2.08437291, 0.75298867, 1.09358325, 0.94062985, 1.1803205 ],\n",
       "       [0.75298867, 2.36025524, 0.91026667, 1.32259239, 0.67918843],\n",
       "       [1.09358325, 0.91026667, 1.90795448, 1.11370475, 1.0218473 ],\n",
       "       [0.94062985, 1.32259239, 1.11370475, 1.59607475, 1.06773362],\n",
       "       [1.1803205 , 0.67918843, 1.0218473 , 1.06773362, 2.10052975]])"
      ]
     },
     "execution_count": 35,
     "metadata": {},
     "output_type": "execute_result"
    }
   ],
   "source": [
    "sum(ddt100000)/100000"
   ]
  },
  {
   "cell_type": "markdown",
   "id": "f75b35b9",
   "metadata": {},
   "source": [
    "We can note that the average for many realizations $<d_{corr}d_{corr}^{T}>\\sim N$ "
   ]
  },
  {
   "cell_type": "markdown",
   "id": "6a409a16",
   "metadata": {},
   "source": [
    "## Problem 4"
   ]
  },
  {
   "cell_type": "markdown",
   "id": "0f668811",
   "metadata": {},
   "source": [
    "I defined the routine corr_noise to generate the correlated noise matrix $N_{ij}=a \\exp(\\frac{-(i-j)^{2}}{2\\sigma^{2}})+(1-a)\\delta_{ij}$ with $a$, $s=\\sigma$, and $x$ as inputs. $x$ is just used to now the length of the matrix."
   ]
  },
  {
   "cell_type": "code",
   "execution_count": 36,
   "id": "8826a2b5",
   "metadata": {},
   "outputs": [],
   "source": [
    "def corr_noise(x,a,s):\n",
    "    n=len(x)\n",
    "    N=np.zeros([n,n])\n",
    "    for i in range(n):\n",
    "        for j in range(n):\n",
    "            if i==j:\n",
    "                N[i][j]=a*np.exp(-((i-j)**2)/(2*(s**2)))+(1-a)\n",
    "            else:\n",
    "                N[i][j]=a*np.exp(-((i-j)**2)/(2*(s**2)))\n",
    "    return N"
   ]
  },
  {
   "cell_type": "code",
   "execution_count": 37,
   "id": "b66b3c9e",
   "metadata": {},
   "outputs": [],
   "source": [
    "xs=np.linspace(0,999,1000)"
   ]
  },
  {
   "cell_type": "markdown",
   "id": "012bbc1f",
   "metadata": {},
   "source": [
    "I defined the Gaussian signal for the x points."
   ]
  },
  {
   "cell_type": "code",
   "execution_count": 38,
   "id": "f52416fa",
   "metadata": {},
   "outputs": [],
   "source": [
    "signal=np.exp(-((xs-xs[499])**2)/(2*(50**2)))"
   ]
  },
  {
   "cell_type": "code",
   "execution_count": 39,
   "id": "959a2b59",
   "metadata": {
    "scrolled": true
   },
   "outputs": [
    {
     "data": {
      "image/png": "[encoded data removed]",
      "text/plain": [
       "<Figure size 432x288 with 1 Axes>"
      ]
     },
     "metadata": {
      "needs_background": "light"
     },
     "output_type": "display_data"
    }
   ],
   "source": [
    "plt.plot(xs,signal)\n",
    "plt.xlabel('x')\n",
    "plt.ylabel('amp')\n",
    "#plt.legend()\n",
    "plt.show()"
   ]
  },
  {
   "cell_type": "markdown",
   "id": "06744a8f",
   "metadata": {},
   "source": [
    "I computed the error bar for the fit amplitude for each pair of $a$ and $\\sigma$ using the output of the routine corr_noise. The estimation of the error bar is obtained as $\\sqrt{(A^{T}N^{-1}A)^{-1}}$, with $A$ the template signal and $N$ the matrix of correlated noise."
   ]
  },
  {
   "cell_type": "code",
   "execution_count": 40,
   "id": "b3e0c383",
   "metadata": {},
   "outputs": [
    {
     "name": "stdout",
     "output_type": "stream",
     "text": [
      "For a=0.1 and sigma=5 the error bar on the fit is:0.15576335487646098\n",
      "For a=0.1 and sigma=50 the error bar on the fit is:0.3377448956231588\n",
      "For a=0.1 and sigma=500 the error bar on the fit is:0.12757498758982014\n",
      "For a=0.5 and sigma=5 the error bar on the fit is:0.27599935080333926\n",
      "For a=0.5 and sigma=50 the error bar on the fit is:0.7140544770562327\n",
      "For a=0.5 and sigma=500 the error bar on the fit is:0.10066392140726646\n",
      "For a=0.9 and sigma=5 the error bar on the fit is:0.3578952599636376\n",
      "For a=0.9 and sigma=50 the error bar on the fit is:0.9499319468584407\n",
      "For a=0.9 and sigma=500 the error bar on the fit is:0.04892549466815368\n"
     ]
    }
   ],
   "source": [
    "a=[0.1,0.5,0.9]\n",
    "sigma=[5,50,500]\n",
    "for i in a:\n",
    "    for j in sigma:\n",
    "        error=np.sqrt(1/(signal@np.linalg.inv(corr_noise(xs,i,j))@signal))\n",
    "        print('For a='+str(i)+' and sigma='+str(j)+\n",
    "             ' the error bar on the fit is:'+str(error))"
   ]
  },
  {
   "cell_type": "markdown",
   "id": "14f64daf",
   "metadata": {},
   "source": [
    "The best error was for the case of  $a=0.9$ and $\\sigma=500$ where the data must be correlated over large distances but almost perfectly correlated; the error bar was 0.0489. The worst case was $a=0.9$ and $\\sigma=50$ where the error bar was 0.9499, in this case $a$ and $\\sigma$ are very closed to the amplitude and $\\sigma_{src}$ values, then probably when stimating $\\sqrt{(A^{T}N^{-1}A)^{-1}}$, the coupling of the source signal and the errors could cause that the error bars will be of the order of the amplitude. The second worst was $a=0.5$ and $\\sigma=50$ where the error bar was 0.714, that also has $\\sigma=\\sigma_{src}$."
   ]
  }
 ],
 "metadata": {
  "kernelspec": {
   "display_name": "Python 3 (ipykernel)",
   "language": "python",
   "name": "python3"
  },
  "language_info": {
   "codemirror_mode": {
    "name": "ipython",
    "version": 3
   },
   "file_extension": ".py",
   "mimetype": "text/x-python",
   "name": "python",
   "nbconvert_exporter": "python",
   "pygments_lexer": "ipython3",
   "version": "3.9.12"
  }
 },
 "nbformat": 4,
 "nbformat_minor": 5
}
